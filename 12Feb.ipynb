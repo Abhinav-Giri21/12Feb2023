{
 "cells": [
  {
   "cell_type": "code",
   "execution_count": null,
   "id": "028cf774-77be-454c-b5fe-1aaa2c537fc2",
   "metadata": {},
   "outputs": [],
   "source": [
    "'''Q1.What is an exception in Python? Write the difference between exceptions and syntax errors.\n",
    "\n",
    "Ans.In Python,an exception is an event that occurs during the execution of a program, which disrupts the normal flow of the program's instructions.\n",
    "    When an exception occurs, the program execution is immediately halted,and the control is transferred to a specific block of code designed to \n",
    "    handle that particular exception.\n",
    "\n",
    "    Exceptions in Python are different from syntax errors.Syntax errors occur when the code violates the rules of the Python language grammar.\n",
    "    These errors prevent the program from being compiled or executed. On the other hand,exceptions are errors that occur during the runtime of \n",
    "    the program. They can be caused by various factors, such as invalid user input, file not found, division by zero, etc.'''"
   ]
  },
  {
   "cell_type": "code",
   "execution_count": 2,
   "id": "d9abafb8-b988-48da-96dc-d182aec0c41b",
   "metadata": {},
   "outputs": [
    {
     "ename": "ZeroDivisionError",
     "evalue": "division by zero",
     "output_type": "error",
     "traceback": [
      "\u001b[0;31m---------------------------------------------------------------------------\u001b[0m",
      "\u001b[0;31mZeroDivisionError\u001b[0m                         Traceback (most recent call last)",
      "Cell \u001b[0;32mIn[2], line 8\u001b[0m\n\u001b[1;32m      6\u001b[0m a\u001b[38;5;241m=\u001b[39m\u001b[38;5;241m5\u001b[39m\n\u001b[1;32m      7\u001b[0m b\u001b[38;5;241m=\u001b[39m\u001b[38;5;241m0\u001b[39m\n\u001b[0;32m----> 8\u001b[0m \u001b[38;5;28mprint\u001b[39m(\u001b[43ma\u001b[49m\u001b[38;5;241;43m/\u001b[39;49m\u001b[43mb\u001b[49m)\n",
      "\u001b[0;31mZeroDivisionError\u001b[0m: division by zero"
     ]
    }
   ],
   "source": [
    "'''Q2.What happens when an exception is not handled? Explain with an example.\n",
    "\n",
    "Ans.When an exception is not handled, it propagates up the call stack until it reaches the highest level of the program,which can cause the program to \n",
    "terminate abruptly.This is called an \"unhandled exception.\"\n",
    "Example-'''\n",
    "a=5\n",
    "b=0\n",
    "print(a/b)"
   ]
  },
  {
   "cell_type": "code",
   "execution_count": null,
   "id": "d0a74304-e5d5-4efd-a892-0b229e440258",
   "metadata": {},
   "outputs": [],
   "source": [
    "'''Q3.Python provides the following statements to raise and handle exceptions:\n",
    "\n",
    "Ans.raise:This statement is used to explicitly raise an exception.It allows you to define custom exceptions or raise built-in exceptions.'''"
   ]
  },
  {
   "cell_type": "code",
   "execution_count": 1,
   "id": "f39de868-a832-4c29-b053-0abbec7b49d2",
   "metadata": {},
   "outputs": [
    {
     "name": "stdout",
     "output_type": "stream",
     "text": [
      "division by zero\n",
      "Program Executed\n"
     ]
    }
   ],
   "source": [
    "'''Q4. Explain with an example: try, except, else, finally, and raise.'''\n",
    "\n",
    "a=3\n",
    "b=0\n",
    "try:\n",
    "    c=a/b\n",
    "except ZeroDivisionError as e:\n",
    "    print(str(e))\n",
    "else:\n",
    "    print(c)\n",
    "finally:\n",
    "    print('Program Executed')\n",
    "    "
   ]
  },
  {
   "cell_type": "code",
   "execution_count": null,
   "id": "79846aca-a2c1-4959-9bf7-66c4d8946966",
   "metadata": {},
   "outputs": [],
   "source": []
  }
 ],
 "metadata": {
  "kernelspec": {
   "display_name": "Python 3 (ipykernel)",
   "language": "python",
   "name": "python3"
  },
  "language_info": {
   "codemirror_mode": {
    "name": "ipython",
    "version": 3
   },
   "file_extension": ".py",
   "mimetype": "text/x-python",
   "name": "python",
   "nbconvert_exporter": "python",
   "pygments_lexer": "ipython3",
   "version": "3.10.8"
  }
 },
 "nbformat": 4,
 "nbformat_minor": 5
}
